{
 "cells": [
  {
   "cell_type": "code",
   "execution_count": 2,
   "id": "f26bc015",
   "metadata": {},
   "outputs": [
    {
     "ename": "IndentationError",
     "evalue": "unexpected indent (4208196090.py, line 18)",
     "output_type": "error",
     "traceback": [
      "\u001b[1;36m  Input \u001b[1;32mIn [2]\u001b[1;36m\u001b[0m\n\u001b[1;33m    dist=list()\u001b[0m\n\u001b[1;37m    ^\u001b[0m\n\u001b[1;31mIndentationError\u001b[0m\u001b[1;31m:\u001b[0m unexpected indent\n"
     ]
    }
   ],
   "source": [
    "import pandas as pd\n",
    "\n",
    "import numpy as np\n",
    "from sklearn.preprocessing import LabelEncoder\n",
    "\n",
    "#---------------------------------Q1----------------------------------#\n",
    "df=pd.read_excel(r\"/Users/Data.xlsx\")\n",
    "\n",
    "df[\"Salary_enc\"]=(df['Salary'] >=35000).astype(int)\n",
    "\n",
    "df2=pd.read_excel(r\"/Users/mohammadjunaidzafar/Desktop/test.xlsx\")\n",
    "x1=df['SiteSpending']\n",
    "y1=df['SiteTime']\n",
    "\n",
    "x2=df2['SiteSpending']\n",
    "y2=df2['SiteTime']\n",
    "\n",
    "    dist=list()\n",
    "x2[0]\n",
    "x1[0]"
   ]
  },
  {
   "cell_type": "code",
   "execution_count": 4,
   "id": "b4522f1e",
   "metadata": {},
   "outputs": [
    {
     "ename": "IndentationError",
     "evalue": "expected an indented block (2797193494.py, line 3)",
     "output_type": "error",
     "traceback": [
      "\u001b[1;36m  Input \u001b[1;32mIn [4]\u001b[1;36m\u001b[0m\n\u001b[1;33m    dist=[]\u001b[0m\n\u001b[1;37m    ^\u001b[0m\n\u001b[1;31mIndentationError\u001b[0m\u001b[1;31m:\u001b[0m expected an indented block\n"
     ]
    }
   ],
   "source": [
    "sal=[]\n",
    "for i in range(0, Len(df2)):\n",
    "dist=[]\n",
    "for j in range(0, Len(df)):\n",
    "x=(((df2['sitespending'].loc[i]-df['sitespending\"].1oc[jl)*2)+((df2['siterime\"].loc[i]-df['siteTime\"].loc[jl)*2))\n",
    "dist.append(x)\n",
    "df.insert (10, 'Distance\" ,dist) df=df.sort_Values('Distance\") df.reset_index (drop-True, inplace=True) k=1]\n",
    "for i in range(0,?):\n",
    "k.append (df['Binary\"1.1oc[1])\n",
    "m=mode (k)\n",
    "9=L\n",
    "for i in range (0,3):\n",
    "if m == df['Binary\"]-loc[f]:\n",
    "q. append (df[' Salary J- loc|1 l\n",
    "s=sum(q)/len(9)\n",
    "sal.append (s)\n",
    "df=df.append(pd.DataFrame(('Age\":[dfa[\"Age\"J.loc[o]l,\"sitespending\":[df2[\"Sitespending\"J.loc[o]l,'siterime\":[df2['site\n",
    "0+=1\n",
    "del df[ 'Distance\"]\n",
    "del dist del k\n",
    "del 9\n",
    "df\n",
    "    \n",
    "\n",
    "\n",
    "y=np.sqrt(np.square(y))\n",
    "y\n",
    "       \n",
    "for i in range(0,len(x2)):\n",
    "       for j in range(0,len(x1)):\n",
    "                y=(x2[j]-x1[i])\n",
    "                y=np.square\n",
    "                c=(y2[j]-y1[i])\n",
    "                c=np.square(x)\n",
    "                x=np.sqrt(y+x)\n",
    "                dist.append(x)"
   ]
  },
  {
   "cell_type": "code",
   "execution_count": null,
   "id": "07841aaa",
   "metadata": {},
   "outputs": [],
   "source": []
  }
 ],
 "metadata": {
  "kernelspec": {
   "display_name": "Python 3 (ipykernel)",
   "language": "python",
   "name": "python3"
  },
  "language_info": {
   "codemirror_mode": {
    "name": "ipython",
    "version": 3
   },
   "file_extension": ".py",
   "mimetype": "text/x-python",
   "name": "python",
   "nbconvert_exporter": "python",
   "pygments_lexer": "ipython3",
   "version": "3.9.12"
  }
 },
 "nbformat": 4,
 "nbformat_minor": 5
}
